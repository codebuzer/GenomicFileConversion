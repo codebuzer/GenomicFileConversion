{
 "cells": [
  {
   "cell_type": "markdown",
   "id": "07d090e1-5122-4456-be78-3886af4ca214",
   "metadata": {},
   "source": [
    "## The functions takes two input one is your dataframe with two columns one is your contig id and the other is your sequence and the another input is your choosen fasta filename and it returns a fasta file and saved it into your current working directly"
   ]
  },
  {
   "cell_type": "code",
   "execution_count": 2,
   "id": "60cd0ca1-365a-42e5-8c42-ba7b6954dec1",
   "metadata": {},
   "outputs": [],
   "source": [
    "import pandas as pd\n",
    "\n",
    "def csv2fasta(dataframe, output_filename):\n",
    "    with open(output_filename, 'w') as fasta_file:\n",
    "        for index, row in dataframe.iterrows():\n",
    "            fasta_file.write(f\">{row['Accession ID']}\\n{row['sequence']}\\n\")"
   ]
  },
  {
   "cell_type": "code",
   "execution_count": null,
   "id": "9bb7d5b2-c914-48ff-884b-40ffc88628a9",
   "metadata": {},
   "outputs": [],
   "source": []
  }
 ],
 "metadata": {
  "kernelspec": {
   "display_name": "Python 3 (ipykernel)",
   "language": "python",
   "name": "python3"
  },
  "language_info": {
   "codemirror_mode": {
    "name": "ipython",
    "version": 3
   },
   "file_extension": ".py",
   "mimetype": "text/x-python",
   "name": "python",
   "nbconvert_exporter": "python",
   "pygments_lexer": "ipython3",
   "version": "3.11.4"
  }
 },
 "nbformat": 4,
 "nbformat_minor": 5
}
