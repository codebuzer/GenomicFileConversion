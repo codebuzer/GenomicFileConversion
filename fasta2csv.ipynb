{
 "cells": [
  {
   "cell_type": "code",
   "execution_count": 38,
   "id": "8dee37ea-9fd1-48bd-b569-b58543f8acca",
   "metadata": {},
   "outputs": [],
   "source": [
    "import pandas as pd\n",
    "\n",
    "def fasta2csv(filename):\n",
    "    with open(filename, 'r') as f:\n",
    "        content = f.read()\n",
    "        \n",
    "    lines = content.splitlines()\n",
    "\n",
    "    IDs = []\n",
    "    seqs = []\n",
    "\n",
    "    current_id = None\n",
    "    current_seq = []\n",
    "\n",
    "    for line in lines:\n",
    "        if line.startswith('>'):\n",
    "            # Save the previous sequence\n",
    "            if current_id is not None:\n",
    "                IDs.append(current_id)\n",
    "                seqs.append(''.join(current_seq))\n",
    "\n",
    "            # Start a new sequence\n",
    "            current_id = line[1:].strip()\n",
    "            current_seq = []\n",
    "        else:\n",
    "            current_seq.append(line)\n",
    "\n",
    "    # Save the last sequence\n",
    "    if current_id is not None:\n",
    "        IDs.append(current_id)\n",
    "        seqs.append(''.join(current_seq))\n",
    "\n",
    "    id_ = pd.DataFrame({'ID': IDs})\n",
    "    seq = pd.DataFrame({'sequence': seqs})\n",
    "    \n",
    "    df = pd.concat([id_, seq], axis=1)\n",
    "    df['length'] = df['sequence'].apply(lambda x: len(x))\n",
    "    df['N_counts'] = df['sequence'].apply(lambda x:x.count('N'))\n",
    "    \n",
    "    # Save DataFrame to CSV\n",
    "    #df.to_csv(output_csv, index=False)\n",
    "    \n",
    "    return df\n"
   ]
  },
  {
   "cell_type": "code",
   "execution_count": 76,
   "id": "957cf201-b0b7-4d90-80e3-8d3c529ea505",
   "metadata": {},
   "outputs": [],
   "source": [
    "df = fasta2csv('vikarabad.fa')"
   ]
  },
  {
   "cell_type": "code",
   "execution_count": 77,
   "id": "034b5306-99ac-4c60-9eaa-8ab6d4386d46",
   "metadata": {},
   "outputs": [
    {
     "data": {
      "text/plain": [
       "(651, 4)"
      ]
     },
     "execution_count": 77,
     "metadata": {},
     "output_type": "execute_result"
    }
   ],
   "source": [
    "df.shape"
   ]
  },
  {
   "cell_type": "code",
   "execution_count": 78,
   "id": "8fdb3a38-9487-4aa5-b884-55c7ab05398f",
   "metadata": {},
   "outputs": [
    {
     "data": {
      "text/html": [
       "<div>\n",
       "<style scoped>\n",
       "    .dataframe tbody tr th:only-of-type {\n",
       "        vertical-align: middle;\n",
       "    }\n",
       "\n",
       "    .dataframe tbody tr th {\n",
       "        vertical-align: top;\n",
       "    }\n",
       "\n",
       "    .dataframe thead th {\n",
       "        text-align: right;\n",
       "    }\n",
       "</style>\n",
       "<table border=\"1\" class=\"dataframe\">\n",
       "  <thead>\n",
       "    <tr style=\"text-align: right;\">\n",
       "      <th></th>\n",
       "      <th>ID</th>\n",
       "      <th>sequence</th>\n",
       "      <th>length</th>\n",
       "      <th>N_counts</th>\n",
       "    </tr>\n",
       "  </thead>\n",
       "  <tbody>\n",
       "    <tr>\n",
       "      <th>0</th>\n",
       "      <td>EPI_ISL_2661178</td>\n",
       "      <td>ACTTTCGATCTCTTGTAGATCTGTTCTCTAAACGAACTTTAAAATC...</td>\n",
       "      <td>29799</td>\n",
       "      <td>68</td>\n",
       "    </tr>\n",
       "    <tr>\n",
       "      <th>1</th>\n",
       "      <td>EPI_ISL_4572428</td>\n",
       "      <td>CCAACCAACTTTCGATCTCTTGTAGATCTGTTCTCTAAACGAACTT...</td>\n",
       "      <td>29753</td>\n",
       "      <td>1407</td>\n",
       "    </tr>\n",
       "    <tr>\n",
       "      <th>2</th>\n",
       "      <td>EPI_ISL_4572427</td>\n",
       "      <td>CCAACCAACTTTCGATCTCTTGTAGATCTGTTCTCTAAACGAACTT...</td>\n",
       "      <td>29755</td>\n",
       "      <td>1228</td>\n",
       "    </tr>\n",
       "    <tr>\n",
       "      <th>3</th>\n",
       "      <td>EPI_ISL_4546372</td>\n",
       "      <td>CCAACCAACTTTCGATCTCTTGTAGATCTGTTCTCTAAACGAACTT...</td>\n",
       "      <td>29829</td>\n",
       "      <td>2188</td>\n",
       "    </tr>\n",
       "    <tr>\n",
       "      <th>4</th>\n",
       "      <td>EPI_ISL_4546369</td>\n",
       "      <td>CCAACCAACTTTCGATCTCTTGTAGATCTGTTCTCTAAACGAACTT...</td>\n",
       "      <td>29829</td>\n",
       "      <td>451</td>\n",
       "    </tr>\n",
       "    <tr>\n",
       "      <th>...</th>\n",
       "      <td>...</td>\n",
       "      <td>...</td>\n",
       "      <td>...</td>\n",
       "      <td>...</td>\n",
       "    </tr>\n",
       "    <tr>\n",
       "      <th>646</th>\n",
       "      <td>EPI_ISL_2661223</td>\n",
       "      <td>ACTTTCGATCTCTTGTAGATCTGTTCTCTAAACGAACTTTAAAATC...</td>\n",
       "      <td>29815</td>\n",
       "      <td>6</td>\n",
       "    </tr>\n",
       "    <tr>\n",
       "      <th>647</th>\n",
       "      <td>EPI_ISL_2661196</td>\n",
       "      <td>ACTTTCGATCTCTTGTAGATCTGTTCTCTAAACGAACTTTAAAATC...</td>\n",
       "      <td>29816</td>\n",
       "      <td>259</td>\n",
       "    </tr>\n",
       "    <tr>\n",
       "      <th>648</th>\n",
       "      <td>EPI_ISL_2661226</td>\n",
       "      <td>ACTTTCGATCTCTTGTAGATCTGTTCTCTAAACGAACTTTAAAATC...</td>\n",
       "      <td>29815</td>\n",
       "      <td>259</td>\n",
       "    </tr>\n",
       "    <tr>\n",
       "      <th>649</th>\n",
       "      <td>EPI_ISL_2661160</td>\n",
       "      <td>ACTTTCGATCTCTTGTAGATCTGTTCTCTAAACGAACTTTAAAATC...</td>\n",
       "      <td>29812</td>\n",
       "      <td>6</td>\n",
       "    </tr>\n",
       "    <tr>\n",
       "      <th>650</th>\n",
       "      <td>EPI_ISL_2661163</td>\n",
       "      <td>ACTTTCGATCTCTTGTAGATCTGTTCTCTAAACGAACTTTAAAATC...</td>\n",
       "      <td>29816</td>\n",
       "      <td>242</td>\n",
       "    </tr>\n",
       "  </tbody>\n",
       "</table>\n",
       "<p>651 rows × 4 columns</p>\n",
       "</div>"
      ],
      "text/plain": [
       "                  ID                                           sequence  \\\n",
       "0    EPI_ISL_2661178  ACTTTCGATCTCTTGTAGATCTGTTCTCTAAACGAACTTTAAAATC...   \n",
       "1    EPI_ISL_4572428  CCAACCAACTTTCGATCTCTTGTAGATCTGTTCTCTAAACGAACTT...   \n",
       "2    EPI_ISL_4572427  CCAACCAACTTTCGATCTCTTGTAGATCTGTTCTCTAAACGAACTT...   \n",
       "3    EPI_ISL_4546372  CCAACCAACTTTCGATCTCTTGTAGATCTGTTCTCTAAACGAACTT...   \n",
       "4    EPI_ISL_4546369  CCAACCAACTTTCGATCTCTTGTAGATCTGTTCTCTAAACGAACTT...   \n",
       "..               ...                                                ...   \n",
       "646  EPI_ISL_2661223  ACTTTCGATCTCTTGTAGATCTGTTCTCTAAACGAACTTTAAAATC...   \n",
       "647  EPI_ISL_2661196  ACTTTCGATCTCTTGTAGATCTGTTCTCTAAACGAACTTTAAAATC...   \n",
       "648  EPI_ISL_2661226  ACTTTCGATCTCTTGTAGATCTGTTCTCTAAACGAACTTTAAAATC...   \n",
       "649  EPI_ISL_2661160  ACTTTCGATCTCTTGTAGATCTGTTCTCTAAACGAACTTTAAAATC...   \n",
       "650  EPI_ISL_2661163  ACTTTCGATCTCTTGTAGATCTGTTCTCTAAACGAACTTTAAAATC...   \n",
       "\n",
       "     length  N_counts  \n",
       "0     29799        68  \n",
       "1     29753      1407  \n",
       "2     29755      1228  \n",
       "3     29829      2188  \n",
       "4     29829       451  \n",
       "..      ...       ...  \n",
       "646   29815         6  \n",
       "647   29816       259  \n",
       "648   29815       259  \n",
       "649   29812         6  \n",
       "650   29816       242  \n",
       "\n",
       "[651 rows x 4 columns]"
      ]
     },
     "execution_count": 78,
     "metadata": {},
     "output_type": "execute_result"
    }
   ],
   "source": [
    "df.drop_duplicates()"
   ]
  },
  {
   "cell_type": "code",
   "execution_count": 79,
   "id": "69c4fbd3-572d-48aa-ba37-8691a7e17176",
   "metadata": {},
   "outputs": [
    {
     "data": {
      "text/plain": [
       "'C:\\\\Users\\\\dell\\\\Desktop\\\\CityClusterAnalysis\\\\final_fasta'"
      ]
     },
     "execution_count": 79,
     "metadata": {},
     "output_type": "execute_result"
    }
   ],
   "source": [
    "import os\n",
    "os.getcwd()"
   ]
  },
  {
   "cell_type": "code",
   "execution_count": null,
   "id": "97b6c084-716e-4dd1-a912-b1e99748a3fd",
   "metadata": {},
   "outputs": [],
   "source": []
  }
 ],
 "metadata": {
  "kernelspec": {
   "display_name": "Python 3 (ipykernel)",
   "language": "python",
   "name": "python3"
  },
  "language_info": {
   "codemirror_mode": {
    "name": "ipython",
    "version": 3
   },
   "file_extension": ".py",
   "mimetype": "text/x-python",
   "name": "python",
   "nbconvert_exporter": "python",
   "pygments_lexer": "ipython3",
   "version": "3.11.4"
  }
 },
 "nbformat": 4,
 "nbformat_minor": 5
}
