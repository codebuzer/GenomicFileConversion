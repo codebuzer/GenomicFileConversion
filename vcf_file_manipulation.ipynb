{
 "cells": [
  {
   "cell_type": "code",
   "execution_count": 1,
   "id": "b3a01242-15bc-4e2c-b606-9673a156fc48",
   "metadata": {},
   "outputs": [],
   "source": [
    "import pandas as pd\n",
    "import os"
   ]
  },
  {
   "cell_type": "code",
   "execution_count": 215,
   "id": "e6d64e13-1a9b-4c49-911c-bad3eca0cd54",
   "metadata": {},
   "outputs": [],
   "source": [
    "vcf_file = [file for file in os.listdir(os.getcwd()) if file.startswith('merge_output')]"
   ]
  },
  {
   "cell_type": "code",
   "execution_count": 216,
   "id": "2051ac8e-4283-4d2b-b256-021522f60e49",
   "metadata": {},
   "outputs": [
    {
     "data": {
      "text/plain": [
       "['merge_output_40.vcf']"
      ]
     },
     "execution_count": 216,
     "metadata": {},
     "output_type": "execute_result"
    }
   ],
   "source": [
    "vcf_file"
   ]
  },
  {
   "cell_type": "code",
   "execution_count": 207,
   "id": "ce13669d-cb5f-4d14-892d-c19549e354ce",
   "metadata": {},
   "outputs": [],
   "source": [
    "def vcf_filter(vcf_file,ref_fasta):\n",
    "    with open(vcf_file, 'r') as f:\n",
    "        content = f.read()\n",
    "        lines = content.splitlines()\n",
    "        \n",
    "    vcf_metadata = '\\n'.join(lines[0:17])\n",
    "    \n",
    "    df = pd.read_csv(vcf_file, sep = '\\t', \n",
    "                     comment = '#',\n",
    "                     header = None)\n",
    "    df.columns = ['VirusName','Position',\n",
    "                  'ID','Ref','Alt','Quality',\n",
    "                  'Filter','info','format',\n",
    "                  'sample']\n",
    "    df['Genotype'] = df['sample'].apply(lambda x:float(x.split(':')[0]))\n",
    "    df['GenotypeQuality'] =df['sample'].apply(lambda x:float(x.split(':')[1]))\n",
    "    df['Depth'] = df['sample'].apply(lambda x:float(x.split(':')[2]))\n",
    "    pass_vcf = df[(df['GenotypeQuality'] > 3) & (df['Depth'] > 20)]\n",
    "    fail_vcf = df[(df['GenotypeQuality'] < 3) | (df['Depth'] < 20)]\n",
    "    with open(ref_fasta, 'r') as f:\n",
    "        content = f.read()\n",
    "        \n",
    "    lines = content.splitlines()\n",
    "\n",
    "    IDs = []\n",
    "    seqs = []\n",
    "    current_id = None\n",
    "    current_seq = []\n",
    "\n",
    "    for line in lines:\n",
    "        if line.startswith('>'):\n",
    "        \n",
    "            if current_id is not None:\n",
    "                IDs.append(current_id)\n",
    "                seqs.append(''.join(current_seq))\n",
    "\n",
    "            current_id = line[1:].strip()\n",
    "            current_seq = []\n",
    "        else:\n",
    "            current_seq.append(line)\n",
    "\n",
    "    if current_id is not None:\n",
    "        IDs.append(current_id)\n",
    "        seqs.append(''.join(current_seq))\n",
    "    nbase = []\n",
    "    position = []\n",
    "    for i in range(len(seqs[0])):\n",
    "        base = seqs[0][i]\n",
    "        pos = i + 1\n",
    "        nbase.append(base)\n",
    "        position.append(pos)\n",
    "    nbase = pd.DataFrame({'ref':nbase})\n",
    "    position = pd.DataFrame({'pos':position})\n",
    "    df = pd.concat([position,nbase],axis =1)\n",
    "    ref_n_pos = []\n",
    "    for pos in fail_vcf['Position']:\n",
    "        df_pos = df[df['pos'] == pos]\n",
    "        ref_n_pos.append(df_pos)\n",
    "    ref_base_pos = []\n",
    "    for pos in pass_vcf['Position']:\n",
    "        df_pos = df[df['pos'] == pos]\n",
    "        ref_base_pos.append(df_pos)\n",
    "    fail_ref_fasta = pd.concat(ref_n_pos)\n",
    "    pass_ref_fasta = pd.concat(ref_base_pos)\n",
    "    nucle_to_be_replaced = fail_ref_fasta['ref'].value_counts().keys()\n",
    "    \n",
    "    fail_ref_fasta = fail_ref_fasta.replace(nucle_to_be_replaced,'N')\n",
    "    manipulated_ref_fasta = pd.concat([pass_ref_fasta,fail_ref_fasta])#.reset_index().drop(['index'],axis =1 ).sort_values('pos')\n",
    "    ref_pos = set(df['pos'])\n",
    "    man_pos = set(manipulated_ref_fasta['pos'])\n",
    "    tmp = ref_pos - man_pos\n",
    "    pos_ref_tmp = []\n",
    "    for pos in tmp:\n",
    "        pos_tmp = df[df['pos'] == pos]\n",
    "        pos_ref_tmp.append(pos_tmp)\n",
    "    pos_ref_tmp = pd.concat(pos_ref_tmp)\n",
    "    manipulated_ref = pd.concat([manipulated_ref_fasta,pos_ref_tmp]).sort_values('pos')\n",
    "    fasta_df = pd.DataFrame()\n",
    "    fasta_df['ID']  = IDs\n",
    "    fasta_df['Seq']  = ''.join(list(manipulated_ref['ref']))\n",
    "    fasta_name = 'barcode' + vcf_file.split('.')[0].split('_')[-1] + '_consensus.fasta'\n",
    "    with open(fasta_name, 'w') as fasta_file:\n",
    "       for index, row in fasta_df.iterrows():\n",
    "           fasta_file.write(f\">{row['ID']}\\n{row['Seq']}\\n\")\n",
    "    pass_vcf = pass_vcf[['VirusName','Position','ID','Ref','Alt','Quality','Filter','info','format','sample']]\n",
    "    pass_vcf = pass_vcf.rename(columns= {'VirusName':'CHROM','Position':'POS',\n",
    "                              'Ref':'REF','Alt':'ALT','Quality':'QUAL',\n",
    "                              'Filter':'FILTER','info':'INFO','format':'FORMAT','sample':'SAMPLE'})\n",
    "    fail_vcf = fail_vcf[['VirusName','Position','ID','Ref','Alt','Quality','Filter','info','format','sample']]\n",
    "    fail_vcf = fail_vcf.rename(columns= {'VirusName':'CHROM','Position':'POS',\n",
    "                              'Ref':'REF','Alt':'ALT','Quality':'QUAL',\n",
    "                              'Filter':'FILTER','info':'INFO','format':'FORMAT','sample':'SAMPLE'})\n",
    "    fail_vcf = fail_vcf.to_string(index=False)\n",
    "    pass_vcf = pass_vcf.to_string(index=False)\n",
    "    combined_content_fail = vcf_metadata + \"\\n\\n\" + fail_vcf\n",
    "    combined_content_pass = vcf_metadata + \"\\n\\n\" + pass_vcf\n",
    "    pass_file_name = 'barcode' + vcf_file.split('.')[0].split('_')[-1] + '_pass' \n",
    "    fail_file_name = 'barcode' + vcf_file.split('.')[0].split('_')[-1] + '_fail' \n",
    "    with open(pass_file_name + \".vcf\", \"w\") as file:\n",
    "        file.write(combined_content_pass)\n",
    "    with open(fail_file_name + \".vcf\", \"w\") as file:\n",
    "        file.write(combined_content_fail)\n",
    "    \n",
    "    \n",
    "    \n",
    "    return combined_content_fail\n",
    "\n",
    "\n",
    "\n"
   ]
  },
  {
   "cell_type": "code",
   "execution_count": 225,
   "id": "a7d1bf14-282a-480e-8102-b36dde4ae3ad",
   "metadata": {},
   "outputs": [],
   "source": [
    "vcf_filter('merge_output_40.vcf','ref.fasta')"
   ]
  },
  {
   "cell_type": "code",
   "execution_count": 214,
   "id": "de185259-18ec-4fe1-b4a8-d5fed309632a",
   "metadata": {},
   "outputs": [
    {
     "name": "stdout",
     "output_type": "stream",
     "text": [
      "merge_output_41.vcf\n",
      "merge_output_5.vcf\n",
      "merge_output_6.vcf\n",
      "merge_output_7.vcf\n",
      "merge_output_8.vcf\n",
      "merge_output_9.vcf\n"
     ]
    }
   ],
   "source": [
    "for file in vcf_file[1:]:\n",
    "    vcf_filter(file,'ref.fasta')\n",
    "    print(file)\n",
    "    "
   ]
  },
  {
   "cell_type": "code",
   "execution_count": 154,
   "id": "bcacfcdb-eee8-453e-bca9-23770446283b",
   "metadata": {},
   "outputs": [
    {
     "data": {
      "text/plain": [
       "'barcode1_consensus_fasta'"
      ]
     },
     "execution_count": 154,
     "metadata": {},
     "output_type": "execute_result"
    }
   ],
   "source": []
  },
  {
   "cell_type": "code",
   "execution_count": 190,
   "id": "8be43037-6b47-4258-9d6e-f6d6dc0b553a",
   "metadata": {},
   "outputs": [],
   "source": [
    "#import pandas as pd\n",
    "#\n",
    "## Load the text file\n",
    "#with open(\"text_file.txt\", \"r\") as file:\n",
    "#    text_content = file.read()\n",
    "\n",
    "# Assuming df is your DataFrame\n",
    "# Example DataFrame creation\n",
    "data = {'Name': ['Alice', 'Bob', 'Charlie'],\n",
    "        'Age': [25, 30, 35],\n",
    "        'City': ['New York', 'Los Angeles', 'Chicago']}\n",
    "df = pd.DataFrame(data)\n",
    "\n",
    "# Convert DataFrame to string\n",
    "df_string = df\n",
    "\n",
    "\n"
   ]
  },
  {
   "cell_type": "code",
   "execution_count": 191,
   "id": "29465b27-9f47-4abd-8bd3-a7f49ac8792d",
   "metadata": {},
   "outputs": [
    {
     "data": {
      "text/plain": [
       "'   Name  Age        City\\n  Alice   25    New York\\n    Bob   30 Los Angeles\\nCharlie   35     Chicago'"
      ]
     },
     "execution_count": 191,
     "metadata": {},
     "output_type": "execute_result"
    }
   ],
   "source": [
    "df_string"
   ]
  },
  {
   "cell_type": "code",
   "execution_count": null,
   "id": "702d5bc6-7b50-422d-a2b7-135d0145d2ce",
   "metadata": {},
   "outputs": [],
   "source": [
    "# Combine text content and DataFrame content\n",
    "combined_content = text_content + \"\\n\\n\" + df_string\n",
    "\n",
    "# Save the combined content to a new text file\n",
    "with open(\"combined_file.txt\", \"w\") as file:\n",
    "    file.write(combined_content)\n",
    "\n",
    "print(\"Combined file saved successfully.\")"
   ]
  },
  {
   "cell_type": "code",
   "execution_count": null,
   "id": "eb24e225-0cf6-42bd-bff9-9cb44a3ba48c",
   "metadata": {},
   "outputs": [],
   "source": []
  },
  {
   "cell_type": "code",
   "execution_count": 180,
   "id": "2abf6f38-c0bc-4574-a2a1-26337cc0a797",
   "metadata": {},
   "outputs": [],
   "source": [
    "with open('merge_output_2.vcf', 'r') as f:\n",
    "    content = f.read()\n",
    "    lines = content.splitlines()\n",
    "        "
   ]
  },
  {
   "cell_type": "code",
   "execution_count": 181,
   "id": "ae208209-e8a8-4d36-a06c-4472e825b566",
   "metadata": {},
   "outputs": [
    {
     "data": {
      "text/plain": [
       "['##fileformat=VCFv4.2',\n",
       " '##source=Clair3',\n",
       " '##clair3_version=1.0.4',\n",
       " '##cmdline=/hpcigib/varsha.r/miniconda3/envs/clair3/bin/run_clair3.sh --bam_fn barcode02.trimmed.rg.sorted.bam --ref_fn /hpcigib/varsha.r/tools/artic-ncov2019/primer_schemes/denv2/V1/denv2.reference.fasta --threads=10 --platform ont --model_path /hpcigib/varsha.r/tools/Clair3/models/r941_prom_sup_g5014 --output clair_VCF/barcode02 --no_phasing_for_fa --include_all_ctgs --haploid_precise --var_pct_full=0.8',\n",
       " '##reference=/hpcigib/varsha.r/tools/artic-ncov2019/primer_schemes/denv2/V1/denv2.reference.fasta',\n",
       " '##FILTER=<ID=PASS,Description=\"All filters passed\">',\n",
       " '##FILTER=<ID=LowQual,Description=\"Low quality variant\">',\n",
       " '##FILTER=<ID=RefCall,Description=\"Reference call\">',\n",
       " '##INFO=<ID=P,Number=0,Type=Flag,Description=\"Result from pileup calling\">',\n",
       " '##INFO=<ID=F,Number=0,Type=Flag,Description=\"Result from full-alignment calling\">',\n",
       " '##FORMAT=<ID=GT,Number=1,Type=String,Description=\"Genotype\">',\n",
       " '##FORMAT=<ID=GQ,Number=1,Type=Integer,Description=\"Genotype Quality\">',\n",
       " '##FORMAT=<ID=DP,Number=1,Type=Integer,Description=\"Approximate read depth (reads with MQ<20 or selected by \\'samtools view -F 2316\\' are filtered)\">',\n",
       " '##FORMAT=<ID=AD,Number=R,Type=Integer,Description=\"Allelic depths for the ref and alt alleles in the order listed\">',\n",
       " '##FORMAT=<ID=PL,Number=G,Type=Integer,Description=\"Normalized, Phred-scaled likelihoods for genotypes as defined in the VCF specification\">',\n",
       " '##FORMAT=<ID=AF,Number=1,Type=Float,Description=\"Observed allele frequency in reads, for each ALT allele, in the same order as listed, or the REF allele for a RefCall\">',\n",
       " '##contig=<ID=NC001474.2,length=10723>']"
      ]
     },
     "execution_count": 181,
     "metadata": {},
     "output_type": "execute_result"
    }
   ],
   "source": [
    "lines[0:17]"
   ]
  },
  {
   "cell_type": "code",
   "execution_count": 182,
   "id": "cfe94ad9-f1ed-46be-8ed2-ec177efb955c",
   "metadata": {},
   "outputs": [
    {
     "data": {
      "text/plain": [
       "'##fileformat=VCFv4.2\\n##source=Clair3\\n##clair3_version=1.0.4\\n##cmdline=/hpcigib/varsha.r/miniconda3/envs/clair3/bin/run_clair3.sh --bam_fn barcode02.trimmed.rg.sorted.bam --ref_fn /hpcigib/varsha.r/tools/artic-ncov2019/primer_schemes/denv2/V1/denv2.reference.fasta --threads=10 --platform ont --model_path /hpcigib/varsha.r/tools/Clair3/models/r941_prom_sup_g5014 --output clair_VCF/barcode02 --no_phasing_for_fa --include_all_ctgs --haploid_precise --var_pct_full=0.8\\n##reference=/hpcigib/varsha.r/tools/artic-ncov2019/primer_schemes/denv2/V1/denv2.reference.fasta\\n##FILTER=<ID=PASS,Description=\"All filters passed\">\\n##FILTER=<ID=LowQual,Description=\"Low quality variant\">\\n##FILTER=<ID=RefCall,Description=\"Reference call\">\\n##INFO=<ID=P,Number=0,Type=Flag,Description=\"Result from pileup calling\">\\n##INFO=<ID=F,Number=0,Type=Flag,Description=\"Result from full-alignment calling\">\\n##FORMAT=<ID=GT,Number=1,Type=String,Description=\"Genotype\">\\n##FORMAT=<ID=GQ,Number=1,Type=Integer,Description=\"Genotype Quality\">\\n##FORMAT=<ID=DP,Number=1,Type=Integer,Description=\"Approximate read depth (reads with MQ<20 or selected by \\'samtools view -F 2316\\' are filtered)\">\\n##FORMAT=<ID=AD,Number=R,Type=Integer,Description=\"Allelic depths for the ref and alt alleles in the order listed\">\\n##FORMAT=<ID=PL,Number=G,Type=Integer,Description=\"Normalized, Phred-scaled likelihoods for genotypes as defined in the VCF specification\">\\n##FORMAT=<ID=AF,Number=1,Type=Float,Description=\"Observed allele frequency in reads, for each ALT allele, in the same order as listed, or the REF allele for a RefCall\">\\n##contig=<ID=NC001474.2,length=10723>'"
      ]
     },
     "execution_count": 182,
     "metadata": {},
     "output_type": "execute_result"
    }
   ],
   "source": [
    "'\\n'.join(lines[0:17])"
   ]
  },
  {
   "cell_type": "code",
   "execution_count": 183,
   "id": "84065221-abd8-4934-9368-b547696e5da9",
   "metadata": {},
   "outputs": [],
   "source": []
  }
 ],
 "metadata": {
  "kernelspec": {
   "display_name": "Python 3 (ipykernel)",
   "language": "python",
   "name": "python3"
  },
  "language_info": {
   "codemirror_mode": {
    "name": "ipython",
    "version": 3
   },
   "file_extension": ".py",
   "mimetype": "text/x-python",
   "name": "python",
   "nbconvert_exporter": "python",
   "pygments_lexer": "ipython3",
   "version": "3.11.4"
  }
 },
 "nbformat": 4,
 "nbformat_minor": 5
}
